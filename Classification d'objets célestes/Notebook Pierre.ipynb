{
 "cells": [
  {
   "cell_type": "markdown",
   "metadata": {},
   "source": [
    "# Load the data and the required modules"
   ]
  },
  {
   "cell_type": "code",
   "execution_count": 1,
   "metadata": {},
   "outputs": [],
   "source": [
    "import pandas as pd\n",
    "import numpy as np\n",
    "import matplotlib.pyplot as plt"
   ]
  },
  {
   "cell_type": "code",
   "execution_count": 2,
   "metadata": {},
   "outputs": [],
   "source": [
    "train = pd.read_csv('data/stars_train.csv')\n",
    "test = pd.read_csv('data/stars_test.csv')\n",
    "object_id = np.loadtxt('data/obj_ID.csv') #Loading with numpy to avoid the roundy error made by pandas"
   ]
  },
  {
   "cell_type": "markdown",
   "metadata": {},
   "source": [
    "# Data cleaning"
   ]
  },
  {
   "cell_type": "code",
   "execution_count": 98,
   "metadata": {},
   "outputs": [
    {
     "data": {
      "text/html": [
       "<div>\n",
       "<style scoped>\n",
       "    .dataframe tbody tr th:only-of-type {\n",
       "        vertical-align: middle;\n",
       "    }\n",
       "\n",
       "    .dataframe tbody tr th {\n",
       "        vertical-align: top;\n",
       "    }\n",
       "\n",
       "    .dataframe thead th {\n",
       "        text-align: right;\n",
       "    }\n",
       "</style>\n",
       "<table border=\"1\" class=\"dataframe\">\n",
       "  <thead>\n",
       "    <tr style=\"text-align: right;\">\n",
       "      <th></th>\n",
       "      <th>obj_ID</th>\n",
       "      <th>alpha</th>\n",
       "      <th>delta</th>\n",
       "      <th>u</th>\n",
       "      <th>g</th>\n",
       "      <th>r</th>\n",
       "      <th>i</th>\n",
       "      <th>z</th>\n",
       "      <th>redshift</th>\n",
       "      <th>label</th>\n",
       "    </tr>\n",
       "  </thead>\n",
       "  <tbody>\n",
       "    <tr>\n",
       "      <th>0</th>\n",
       "      <td>1.237659e+18</td>\n",
       "      <td>232.502422</td>\n",
       "      <td>45.121027</td>\n",
       "      <td>25.65923</td>\n",
       "      <td>22.36003</td>\n",
       "      <td>21.22009</td>\n",
       "      <td>20.18024</td>\n",
       "      <td>19.43329</td>\n",
       "      <td>0.547620</td>\n",
       "      <td>0</td>\n",
       "    </tr>\n",
       "    <tr>\n",
       "      <th>1</th>\n",
       "      <td>1.237654e+18</td>\n",
       "      <td>129.290210</td>\n",
       "      <td>48.672374</td>\n",
       "      <td>20.28340</td>\n",
       "      <td>20.09267</td>\n",
       "      <td>19.96514</td>\n",
       "      <td>19.58195</td>\n",
       "      <td>19.42377</td>\n",
       "      <td>1.673636</td>\n",
       "      <td>2</td>\n",
       "    </tr>\n",
       "    <tr>\n",
       "      <th>2</th>\n",
       "      <td>1.237656e+18</td>\n",
       "      <td>256.078422</td>\n",
       "      <td>35.629789</td>\n",
       "      <td>22.09653</td>\n",
       "      <td>22.06431</td>\n",
       "      <td>21.81846</td>\n",
       "      <td>21.55368</td>\n",
       "      <td>20.71617</td>\n",
       "      <td>1.141341</td>\n",
       "      <td>2</td>\n",
       "    </tr>\n",
       "    <tr>\n",
       "      <th>3</th>\n",
       "      <td>1.237679e+18</td>\n",
       "      <td>15.237270</td>\n",
       "      <td>11.871627</td>\n",
       "      <td>22.53424</td>\n",
       "      <td>21.76865</td>\n",
       "      <td>21.77098</td>\n",
       "      <td>21.59392</td>\n",
       "      <td>22.15125</td>\n",
       "      <td>0.000447</td>\n",
       "      <td>1</td>\n",
       "    </tr>\n",
       "    <tr>\n",
       "      <th>4</th>\n",
       "      <td>1.237665e+18</td>\n",
       "      <td>128.023708</td>\n",
       "      <td>25.454899</td>\n",
       "      <td>22.99427</td>\n",
       "      <td>21.43313</td>\n",
       "      <td>19.53053</td>\n",
       "      <td>18.75837</td>\n",
       "      <td>18.35530</td>\n",
       "      <td>0.453795</td>\n",
       "      <td>0</td>\n",
       "    </tr>\n",
       "    <tr>\n",
       "      <th>...</th>\n",
       "      <td>...</td>\n",
       "      <td>...</td>\n",
       "      <td>...</td>\n",
       "      <td>...</td>\n",
       "      <td>...</td>\n",
       "      <td>...</td>\n",
       "      <td>...</td>\n",
       "      <td>...</td>\n",
       "      <td>...</td>\n",
       "      <td>...</td>\n",
       "    </tr>\n",
       "    <tr>\n",
       "      <th>52290</th>\n",
       "      <td>1.237661e+18</td>\n",
       "      <td>140.043373</td>\n",
       "      <td>35.237612</td>\n",
       "      <td>25.30457</td>\n",
       "      <td>25.57575</td>\n",
       "      <td>21.71407</td>\n",
       "      <td>20.48397</td>\n",
       "      <td>19.74290</td>\n",
       "      <td>0.885847</td>\n",
       "      <td>0</td>\n",
       "    </tr>\n",
       "    <tr>\n",
       "      <th>52291</th>\n",
       "      <td>1.237662e+18</td>\n",
       "      <td>226.644371</td>\n",
       "      <td>44.653687</td>\n",
       "      <td>20.97036</td>\n",
       "      <td>20.30314</td>\n",
       "      <td>20.06663</td>\n",
       "      <td>20.23149</td>\n",
       "      <td>19.99547</td>\n",
       "      <td>-0.000457</td>\n",
       "      <td>1</td>\n",
       "    </tr>\n",
       "    <tr>\n",
       "      <th>52292</th>\n",
       "      <td>1.237668e+18</td>\n",
       "      <td>223.750703</td>\n",
       "      <td>13.223071</td>\n",
       "      <td>24.54803</td>\n",
       "      <td>23.03375</td>\n",
       "      <td>21.34179</td>\n",
       "      <td>20.19960</td>\n",
       "      <td>19.65182</td>\n",
       "      <td>0.694280</td>\n",
       "      <td>0</td>\n",
       "    </tr>\n",
       "    <tr>\n",
       "      <th>52293</th>\n",
       "      <td>1.237674e+18</td>\n",
       "      <td>115.159285</td>\n",
       "      <td>42.273436</td>\n",
       "      <td>22.77362</td>\n",
       "      <td>20.81738</td>\n",
       "      <td>20.32921</td>\n",
       "      <td>20.41112</td>\n",
       "      <td>20.88642</td>\n",
       "      <td>-0.000160</td>\n",
       "      <td>1</td>\n",
       "    </tr>\n",
       "    <tr>\n",
       "      <th>52294</th>\n",
       "      <td>1.237663e+18</td>\n",
       "      <td>251.017306</td>\n",
       "      <td>49.202128</td>\n",
       "      <td>21.97985</td>\n",
       "      <td>21.35043</td>\n",
       "      <td>21.17899</td>\n",
       "      <td>20.77904</td>\n",
       "      <td>20.36575</td>\n",
       "      <td>1.703428</td>\n",
       "      <td>2</td>\n",
       "    </tr>\n",
       "  </tbody>\n",
       "</table>\n",
       "<p>52295 rows × 10 columns</p>\n",
       "</div>"
      ],
      "text/plain": [
       "             obj_ID       alpha      delta         u         g         r  \\\n",
       "0      1.237659e+18  232.502422  45.121027  25.65923  22.36003  21.22009   \n",
       "1      1.237654e+18  129.290210  48.672374  20.28340  20.09267  19.96514   \n",
       "2      1.237656e+18  256.078422  35.629789  22.09653  22.06431  21.81846   \n",
       "3      1.237679e+18   15.237270  11.871627  22.53424  21.76865  21.77098   \n",
       "4      1.237665e+18  128.023708  25.454899  22.99427  21.43313  19.53053   \n",
       "...             ...         ...        ...       ...       ...       ...   \n",
       "52290  1.237661e+18  140.043373  35.237612  25.30457  25.57575  21.71407   \n",
       "52291  1.237662e+18  226.644371  44.653687  20.97036  20.30314  20.06663   \n",
       "52292  1.237668e+18  223.750703  13.223071  24.54803  23.03375  21.34179   \n",
       "52293  1.237674e+18  115.159285  42.273436  22.77362  20.81738  20.32921   \n",
       "52294  1.237663e+18  251.017306  49.202128  21.97985  21.35043  21.17899   \n",
       "\n",
       "              i         z  redshift  label  \n",
       "0      20.18024  19.43329  0.547620      0  \n",
       "1      19.58195  19.42377  1.673636      2  \n",
       "2      21.55368  20.71617  1.141341      2  \n",
       "3      21.59392  22.15125  0.000447      1  \n",
       "4      18.75837  18.35530  0.453795      0  \n",
       "...         ...       ...       ...    ...  \n",
       "52290  20.48397  19.74290  0.885847      0  \n",
       "52291  20.23149  19.99547 -0.000457      1  \n",
       "52292  20.19960  19.65182  0.694280      0  \n",
       "52293  20.41112  20.88642 -0.000160      1  \n",
       "52294  20.77904  20.36575  1.703428      2  \n",
       "\n",
       "[52295 rows x 10 columns]"
      ]
     },
     "execution_count": 98,
     "metadata": {},
     "output_type": "execute_result"
    }
   ],
   "source": [
    "train"
   ]
  },
  {
   "cell_type": "code",
   "execution_count": 99,
   "metadata": {},
   "outputs": [
    {
     "data": {
      "text/html": [
       "<div>\n",
       "<style scoped>\n",
       "    .dataframe tbody tr th:only-of-type {\n",
       "        vertical-align: middle;\n",
       "    }\n",
       "\n",
       "    .dataframe tbody tr th {\n",
       "        vertical-align: top;\n",
       "    }\n",
       "\n",
       "    .dataframe thead th {\n",
       "        text-align: right;\n",
       "    }\n",
       "</style>\n",
       "<table border=\"1\" class=\"dataframe\">\n",
       "  <thead>\n",
       "    <tr style=\"text-align: right;\">\n",
       "      <th></th>\n",
       "      <th>obj_ID</th>\n",
       "      <th>alpha</th>\n",
       "      <th>delta</th>\n",
       "      <th>u</th>\n",
       "      <th>g</th>\n",
       "      <th>r</th>\n",
       "      <th>i</th>\n",
       "      <th>z</th>\n",
       "      <th>redshift</th>\n",
       "    </tr>\n",
       "  </thead>\n",
       "  <tbody>\n",
       "    <tr>\n",
       "      <th>0</th>\n",
       "      <td>1.237671e+18</td>\n",
       "      <td>44.705691</td>\n",
       "      <td>33.993858</td>\n",
       "      <td>19.51527</td>\n",
       "      <td>18.40343</td>\n",
       "      <td>18.03881</td>\n",
       "      <td>17.87942</td>\n",
       "      <td>17.85744</td>\n",
       "      <td>-0.000176</td>\n",
       "    </tr>\n",
       "    <tr>\n",
       "      <th>1</th>\n",
       "      <td>1.237661e+18</td>\n",
       "      <td>132.101279</td>\n",
       "      <td>31.861286</td>\n",
       "      <td>25.98949</td>\n",
       "      <td>22.63758</td>\n",
       "      <td>21.74283</td>\n",
       "      <td>20.60178</td>\n",
       "      <td>19.82636</td>\n",
       "      <td>0.699970</td>\n",
       "    </tr>\n",
       "    <tr>\n",
       "      <th>2</th>\n",
       "      <td>1.237680e+18</td>\n",
       "      <td>338.396724</td>\n",
       "      <td>24.538435</td>\n",
       "      <td>24.28447</td>\n",
       "      <td>24.52921</td>\n",
       "      <td>22.09690</td>\n",
       "      <td>20.87217</td>\n",
       "      <td>19.96444</td>\n",
       "      <td>-0.000218</td>\n",
       "    </tr>\n",
       "    <tr>\n",
       "      <th>3</th>\n",
       "      <td>1.237679e+18</td>\n",
       "      <td>322.095785</td>\n",
       "      <td>0.677901</td>\n",
       "      <td>23.73190</td>\n",
       "      <td>22.65734</td>\n",
       "      <td>22.27631</td>\n",
       "      <td>22.68605</td>\n",
       "      <td>21.90804</td>\n",
       "      <td>0.471956</td>\n",
       "    </tr>\n",
       "    <tr>\n",
       "      <th>4</th>\n",
       "      <td>1.237668e+18</td>\n",
       "      <td>242.657170</td>\n",
       "      <td>12.065346</td>\n",
       "      <td>21.43320</td>\n",
       "      <td>21.30294</td>\n",
       "      <td>20.41931</td>\n",
       "      <td>19.64881</td>\n",
       "      <td>19.24359</td>\n",
       "      <td>0.647077</td>\n",
       "    </tr>\n",
       "    <tr>\n",
       "      <th>...</th>\n",
       "      <td>...</td>\n",
       "      <td>...</td>\n",
       "      <td>...</td>\n",
       "      <td>...</td>\n",
       "      <td>...</td>\n",
       "      <td>...</td>\n",
       "      <td>...</td>\n",
       "      <td>...</td>\n",
       "      <td>...</td>\n",
       "    </tr>\n",
       "    <tr>\n",
       "      <th>25753</th>\n",
       "      <td>1.237672e+18</td>\n",
       "      <td>302.926269</td>\n",
       "      <td>58.816365</td>\n",
       "      <td>19.85081</td>\n",
       "      <td>18.50319</td>\n",
       "      <td>17.92703</td>\n",
       "      <td>17.68414</td>\n",
       "      <td>17.55972</td>\n",
       "      <td>-0.000185</td>\n",
       "    </tr>\n",
       "    <tr>\n",
       "      <th>25754</th>\n",
       "      <td>1.237665e+18</td>\n",
       "      <td>151.798957</td>\n",
       "      <td>29.685161</td>\n",
       "      <td>22.53443</td>\n",
       "      <td>20.93578</td>\n",
       "      <td>18.99101</td>\n",
       "      <td>18.35113</td>\n",
       "      <td>17.89552</td>\n",
       "      <td>0.369260</td>\n",
       "    </tr>\n",
       "    <tr>\n",
       "      <th>25755</th>\n",
       "      <td>1.237658e+18</td>\n",
       "      <td>188.994240</td>\n",
       "      <td>52.102761</td>\n",
       "      <td>23.80252</td>\n",
       "      <td>21.97555</td>\n",
       "      <td>20.84109</td>\n",
       "      <td>19.98111</td>\n",
       "      <td>19.74125</td>\n",
       "      <td>0.595525</td>\n",
       "    </tr>\n",
       "    <tr>\n",
       "      <th>25756</th>\n",
       "      <td>1.237664e+18</td>\n",
       "      <td>11.560214</td>\n",
       "      <td>0.000378</td>\n",
       "      <td>19.87143</td>\n",
       "      <td>17.87807</td>\n",
       "      <td>16.83970</td>\n",
       "      <td>16.42124</td>\n",
       "      <td>16.07215</td>\n",
       "      <td>0.111719</td>\n",
       "    </tr>\n",
       "    <tr>\n",
       "      <th>25757</th>\n",
       "      <td>1.237663e+18</td>\n",
       "      <td>1.608916</td>\n",
       "      <td>25.994385</td>\n",
       "      <td>23.86313</td>\n",
       "      <td>21.13247</td>\n",
       "      <td>20.88319</td>\n",
       "      <td>21.13457</td>\n",
       "      <td>21.72155</td>\n",
       "      <td>-0.000215</td>\n",
       "    </tr>\n",
       "  </tbody>\n",
       "</table>\n",
       "<p>25758 rows × 9 columns</p>\n",
       "</div>"
      ],
      "text/plain": [
       "             obj_ID       alpha      delta         u         g         r  \\\n",
       "0      1.237671e+18   44.705691  33.993858  19.51527  18.40343  18.03881   \n",
       "1      1.237661e+18  132.101279  31.861286  25.98949  22.63758  21.74283   \n",
       "2      1.237680e+18  338.396724  24.538435  24.28447  24.52921  22.09690   \n",
       "3      1.237679e+18  322.095785   0.677901  23.73190  22.65734  22.27631   \n",
       "4      1.237668e+18  242.657170  12.065346  21.43320  21.30294  20.41931   \n",
       "...             ...         ...        ...       ...       ...       ...   \n",
       "25753  1.237672e+18  302.926269  58.816365  19.85081  18.50319  17.92703   \n",
       "25754  1.237665e+18  151.798957  29.685161  22.53443  20.93578  18.99101   \n",
       "25755  1.237658e+18  188.994240  52.102761  23.80252  21.97555  20.84109   \n",
       "25756  1.237664e+18   11.560214   0.000378  19.87143  17.87807  16.83970   \n",
       "25757  1.237663e+18    1.608916  25.994385  23.86313  21.13247  20.88319   \n",
       "\n",
       "              i         z  redshift  \n",
       "0      17.87942  17.85744 -0.000176  \n",
       "1      20.60178  19.82636  0.699970  \n",
       "2      20.87217  19.96444 -0.000218  \n",
       "3      22.68605  21.90804  0.471956  \n",
       "4      19.64881  19.24359  0.647077  \n",
       "...         ...       ...       ...  \n",
       "25753  17.68414  17.55972 -0.000185  \n",
       "25754  18.35113  17.89552  0.369260  \n",
       "25755  19.98111  19.74125  0.595525  \n",
       "25756  16.42124  16.07215  0.111719  \n",
       "25757  21.13457  21.72155 -0.000215  \n",
       "\n",
       "[25758 rows x 9 columns]"
      ]
     },
     "execution_count": 99,
     "metadata": {},
     "output_type": "execute_result"
    }
   ],
   "source": [
    "test"
   ]
  },
  {
   "cell_type": "code",
   "execution_count": 100,
   "metadata": {},
   "outputs": [
    {
     "name": "stdout",
     "output_type": "stream",
     "text": [
      "0    31900\n",
      "1    11019\n",
      "2     9376\n",
      "Name: label, dtype: int64\n"
     ]
    }
   ],
   "source": [
    "#print the number of labels in each category\n",
    "print(train['label'].value_counts())"
   ]
  },
  {
   "cell_type": "code",
   "execution_count": 101,
   "metadata": {},
   "outputs": [
    {
     "data": {
      "text/plain": [
       "obj_ID      0\n",
       "alpha       0\n",
       "delta       0\n",
       "u           0\n",
       "g           0\n",
       "r           0\n",
       "i           0\n",
       "z           0\n",
       "redshift    0\n",
       "label       0\n",
       "dtype: int64"
      ]
     },
     "execution_count": 101,
     "metadata": {},
     "output_type": "execute_result"
    }
   ],
   "source": [
    "#count the number of nan values in each column\n",
    "train.isnull().sum()"
   ]
  },
  {
   "cell_type": "markdown",
   "metadata": {},
   "source": [
    "# Training a random forest"
   ]
  },
  {
   "cell_type": "code",
   "execution_count": 102,
   "metadata": {},
   "outputs": [],
   "source": [
    "#split the data into a training set and a validation set\n",
    "from sklearn.model_selection import train_test_split\n",
    "X = train.drop('label', axis=1)\n",
    "y = train['label']\n",
    "X_train, X_test, y_train, y_test = train_test_split(X, y, test_size=0.33)"
   ]
  },
  {
   "cell_type": "code",
   "execution_count": 103,
   "metadata": {},
   "outputs": [
    {
     "name": "stdout",
     "output_type": "stream",
     "text": [
      "(35037, 9) (17258, 9) (35037,) (17258,)\n"
     ]
    }
   ],
   "source": [
    "print(X_train.shape, X_test.shape, y_train.shape, y_test.shape)"
   ]
  },
  {
   "cell_type": "code",
   "execution_count": 104,
   "metadata": {},
   "outputs": [
    {
     "name": "stdout",
     "output_type": "stream",
     "text": [
      "0.9760690694170819\n"
     ]
    }
   ],
   "source": [
    "#try a multiclass classification with a random forest classifier\n",
    "from sklearn.ensemble import RandomForestClassifier\n",
    "from sklearn.metrics import accuracy_score\n",
    "from sklearn.metrics import confusion_matrix\n",
    "\n",
    "rfc = RandomForestClassifier(n_estimators=100)\n",
    "rfc.fit(X_train, y_train)\n",
    "y_pred = rfc.predict(X_test)\n",
    "print(accuracy_score(y_test, y_pred))   "
   ]
  },
  {
   "cell_type": "code",
   "execution_count": 105,
   "metadata": {},
   "outputs": [
    {
     "name": "stdout",
     "output_type": "stream",
     "text": [
      "[[10443    18   131]\n",
      " [    4  3543     0]\n",
      " [  259     1  2859]]\n"
     ]
    }
   ],
   "source": [
    "#print the confusion matrix\n",
    "print(confusion_matrix(y_test, y_pred))"
   ]
  },
  {
   "cell_type": "code",
   "execution_count": 106,
   "metadata": {},
   "outputs": [
    {
     "name": "stdout",
     "output_type": "stream",
     "text": [
      "(array([0, 1, 2], dtype=int64), array([10706,  3562,  2990], dtype=int64))\n"
     ]
    }
   ],
   "source": [
    "#print the number of 0 1 and 2 y_pred\n",
    "print(np.unique(y_pred, return_counts=True))"
   ]
  },
  {
   "cell_type": "markdown",
   "metadata": {},
   "source": [
    "# Submit the result"
   ]
  },
  {
   "cell_type": "code",
   "execution_count": 107,
   "metadata": {},
   "outputs": [
    {
     "ename": "",
     "evalue": "",
     "output_type": "error",
     "traceback": [
      "\u001b[1;31mThe Kernel crashed while executing code in the the current cell or a previous cell. Please review the code in the cell(s) to identify a possible cause of the failure. Click <a href='https://aka.ms/vscodeJupyterKernelCrash'>here</a> for more info. View Jupyter <a href='command:jupyter.viewOutput'>log</a> for further details."
     ]
    }
   ],
   "source": [
    "#export x_pred['obj_ID'] and y_pred to a csv file\n",
    "y_pred = rfc.predict(test)\n",
    "df = pd.DataFrame({'obj_ID':object_id, 'label':y_pred})\n",
    "df.to_csv('submission.csv', index=False)"
   ]
  }
 ],
 "metadata": {
  "kernelspec": {
   "display_name": "base",
   "language": "python",
   "name": "python3"
  },
  "language_info": {
   "codemirror_mode": {
    "name": "ipython",
    "version": 3
   },
   "file_extension": ".py",
   "mimetype": "text/x-python",
   "name": "python",
   "nbconvert_exporter": "python",
   "pygments_lexer": "ipython3",
   "version": "3.11.4"
  },
  "orig_nbformat": 4
 },
 "nbformat": 4,
 "nbformat_minor": 2
}
